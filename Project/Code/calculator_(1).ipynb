{
  "cells": [
    {
      "cell_type": "code",
      "execution_count": null,
      "metadata": {
        "id": "8_Wynf3WGWwD"
      },
      "outputs": [],
      "source": [
        "def add(x, y):\n",
        "    \"\"\"\n",
        "    Adds two numbers.\n",
        "\n",
        "    Parameters:\n",
        "    - x (float or int): The first number to be added.\n",
        "    - y (float or int): The second number to be added.\n",
        "\n",
        "    Returns:\n",
        "    float or int: The sum of x and y.\n",
        "    \"\"\"\n",
        "    return x + y\n",
        "\n",
        "\n",
        "\n",
        "def subtract(x, y):\n",
        "    \"\"\"\n",
        "    Subtracts the second number from the first.\n",
        "\n",
        "    Parameters:\n",
        "    - x (float or int): The number from which the second number will be subtracted.\n",
        "    - y (float or int): The number to be subtracted.\n",
        "\n",
        "    Returns:\n",
        "    float or int: The result of subtracting y from x.\n",
        "    \"\"\"\n",
        "    return x - y\n",
        "\n",
        "\n",
        "\n",
        "def multiply(x, y):\n",
        "    \"\"\"\n",
        "    Multiplies two numbers.\n",
        "\n",
        "    Parameters:\n",
        "    - x (float or int): The first number to be multiplied.\n",
        "    - y (float or int): The second number to be multiplied.\n",
        "\n",
        "    Returns:\n",
        "    float or int: The product of x and y.\n",
        "    \"\"\"\n",
        "    return x * y\n",
        "\n",
        "\n",
        "\n",
        "def divide(x, y):\n",
        "    \"\"\"\n",
        "    Divides the first number by the second.\n",
        "\n",
        "    Parameters:\n",
        "    - x (float or int): The dividend.\n",
        "    - y (float or int): The divisor.\n",
        "\n",
        "    Returns:\n",
        "    float: The result of dividing x by y.\n",
        "    \"\"\"\n",
        "    if y == 0:\n",
        "        raise ValueError(\"Cannot divide by zero.\")\n",
        "    return x / y"
      ]
    },
    {
      "cell_type": "code",
      "execution_count": null,
      "metadata": {
        "id": "tcNNTStIGWwE",
        "outputId": "21bc9495-1cdb-44c7-d2d5-23889ef4a382"
      },
      "outputs": [
        {
          "data": {
            "text/plain": [
              "8"
            ]
          },
          "execution_count": 2,
          "metadata": {},
          "output_type": "execute_result"
        }
      ],
      "source": [
        "add(4,4)"
      ]
    },
    {
      "cell_type": "code",
      "execution_count": null,
      "metadata": {
        "id": "mgkSMjrIGWwF",
        "outputId": "99724866-42a8-430b-861b-745ee8394881"
      },
      "outputs": [
        {
          "data": {
            "text/plain": [
              "0"
            ]
          },
          "execution_count": 3,
          "metadata": {},
          "output_type": "execute_result"
        }
      ],
      "source": [
        "subtract(4,4)"
      ]
    },
    {
      "cell_type": "code",
      "execution_count": null,
      "metadata": {
        "id": "ksZxwr-5GWwF",
        "outputId": "13b3a0b6-73ca-46c8-c455-bba8a4b214e5"
      },
      "outputs": [
        {
          "data": {
            "text/plain": [
              "256"
            ]
          },
          "execution_count": 4,
          "metadata": {},
          "output_type": "execute_result"
        }
      ],
      "source": [
        "multiply(4,4)"
      ]
    },
    {
      "cell_type": "code",
      "execution_count": null,
      "metadata": {
        "id": "ZejqriJGGWwG",
        "outputId": "38760bea-e60c-4862-afc1-791793c81812"
      },
      "outputs": [
        {
          "data": {
            "text/plain": [
              "1.0"
            ]
          },
          "execution_count": 5,
          "metadata": {},
          "output_type": "execute_result"
        }
      ],
      "source": [
        "divide(4,4)"
      ]
    },
    {
      "cell_type": "code",
      "execution_count": null,
      "metadata": {
        "id": "myRJue_rGWwG"
      },
      "outputs": [],
      "source": []
    }
  ],
  "metadata": {
    "kernelspec": {
      "display_name": "Python 3",
      "language": "python",
      "name": "python3"
    },
    "language_info": {
      "codemirror_mode": {
        "name": "ipython",
        "version": 3
      },
      "file_extension": ".py",
      "mimetype": "text/x-python",
      "name": "python",
      "nbconvert_exporter": "python",
      "pygments_lexer": "ipython3",
      "version": "3.9.6"
    },
    "colab": {
      "provenance": []
    }
  },
  "nbformat": 4,
  "nbformat_minor": 0
}